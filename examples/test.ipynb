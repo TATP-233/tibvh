{
 "cells": [
  {
   "cell_type": "code",
   "execution_count": 7,
   "id": "08b6c067",
   "metadata": {},
   "outputs": [
    {
     "name": "stdout",
     "output_type": "stream",
     "text": [
      "Saved binary PLY to: /home/tatp/Desktop/points_thresh_supersplat.ply\n"
     ]
    }
   ],
   "source": [
    "import numpy as np\n",
    "import tqdm\n",
    "\n",
    "grids = np.load(\"/home/tatp/Desktop/grids.npy\")\n",
    "\n",
    "base_scale = 0.033 # you can tune this\n",
    "output_ply = \"/home/tatp/Desktop/points_thresh_supersplat.ply\"\n",
    "\n",
    "positions = grids[:, :3].astype(np.float32)\n",
    "N = int(positions.shape[0])\n",
    "\n",
    "def RGB2SH(rgb):\n",
    "    C0 = 0.28209479177387814\n",
    "    return (rgb - 0.5).astype(np.float32) / C0\n",
    "_rgb = np.random.random((N, 3)).astype(np.float32)\n",
    "shs = RGB2SH(_rgb)\n",
    "\n",
    "opa_ = np.ones(N, dtype=np.float32)\n",
    "opacities = -np.log(1e-6 + 1.0 / np.clip(opa_, 1e-6, 1.0) - 1.0).astype(np.float32)\n",
    "log_scale = np.full(N, np.log(base_scale / 3.), dtype=np.float32)\n",
    "\n",
    "rot = np.zeros((N, 4), dtype=np.float32)\n",
    "rot[:, 0] = 1.0\n",
    "\n",
    "ply_dtype = np.dtype([\n",
    "    (\"x\", \"<f4\"), (\"y\", \"<f4\"), (\"z\", \"<f4\"),\n",
    "    (\"f_dc_0\", \"<f4\"), (\"f_dc_1\", \"<f4\"), (\"f_dc_2\", \"<f4\"), (\"opacity\", \"<f4\"),\n",
    "    (\"scale_0\", \"<f4\"), (\"scale_1\", \"<f4\"), (\"scale_2\", \"<f4\"),\n",
    "    (\"rot_0\", \"<f4\"), (\"rot_1\", \"<f4\"), (\"rot_2\", \"<f4\"), (\"rot_3\", \"<f4\"),\n",
    "])\n",
    "\n",
    "rec = np.empty(N, dtype=ply_dtype)\n",
    "rec[\"x\"], rec[\"y\"], rec[\"z\"] = positions[:, 0], positions[:, 1], positions[:, 2]\n",
    "rec[\"f_dc_0\"], rec[\"f_dc_1\"], rec[\"f_dc_2\"] = shs[:, 0], shs[:, 1], shs[:, 2]\n",
    "rec[\"opacity\"] = opacities\n",
    "rec[\"scale_0\"], rec[\"scale_1\"], rec[\"scale_2\"] = log_scale, log_scale, log_scale\n",
    "rec[\"rot_0\"], rec[\"rot_1\"], rec[\"rot_2\"], rec[\"rot_3\"] = rot[:, 0], rot[:, 1], rot[:, 2], rot[:, 3]\n",
    "\n",
    "# 写出二进制little-endian PLY：header + 一次性二进制块\n",
    "with open(output_ply, \"wb\") as f:\n",
    "    header = []\n",
    "    header.append(\"ply\\n\")\n",
    "    header.append(\"format binary_little_endian 1.0\\n\")\n",
    "    header.append(f\"element vertex {N}\\n\")\n",
    "    header.append(\"property float x\\n\")\n",
    "    header.append(\"property float y\\n\")\n",
    "    header.append(\"property float z\\n\")\n",
    "    header.append(\"property float f_dc_0\\n\")\n",
    "    header.append(\"property float f_dc_1\\n\")\n",
    "    header.append(\"property float f_dc_2\\n\")\n",
    "    header.append(\"property float opacity\\n\")\n",
    "    header.append(\"property float scale_0\\n\")\n",
    "    header.append(\"property float scale_1\\n\")\n",
    "    header.append(\"property float scale_2\\n\")\n",
    "    header.append(\"property float rot_0\\n\")\n",
    "    header.append(\"property float rot_1\\n\")\n",
    "    header.append(\"property float rot_2\\n\")\n",
    "    header.append(\"property float rot_3\\n\")\n",
    "    header.append(\"end_header\\n\")\n",
    "    f.write(\"\".join(header).encode(\"ascii\"))\n",
    "\n",
    "    # 结构化数组已为小端，直接写出\n",
    "    rec.tofile(f)\n",
    "\n",
    "print(f\"Saved binary PLY to: {output_ply}\")"
   ]
  },
  {
   "cell_type": "code",
   "execution_count": 11,
   "id": "2e18e419",
   "metadata": {},
   "outputs": [
    {
     "name": "stdout",
     "output_type": "stream",
     "text": [
      "(1357959, 4) float32\n"
     ]
    }
   ],
   "source": [
    "grids = np.load(\"/home/tatp/Desktop/test_grids.npy\")\n",
    "print(grids.shape, grids.dtype)"
   ]
  },
  {
   "cell_type": "code",
   "execution_count": null,
   "id": "1f208d11",
   "metadata": {},
   "outputs": [],
   "source": [
    "import numpy as np\n",
    "import open3d as o3d\n",
    "\n",
    "grids = np.load(\"/home/tatp/Desktop/grids.npy\")  # (N,4) x,y,z,density\n",
    "density_threshold = 1.0\n",
    "voxel = 0.02  # 体素下采样，越大点越少，渲染越快\n",
    "\n",
    "mask = grids[:, 3] > density_threshold\n",
    "pts = grids[mask, :3].astype(np.float32)\n",
    "\n",
    "# 可选：再做随机下采样避免过多点\n",
    "max_points = 5_000_000\n",
    "if pts.shape[0] > max_points:\n",
    "    idx = np.random.choice(pts.shape[0], max_points, replace=False)\n",
    "    pts = pts[idx]\n",
    "\n",
    "pcd = o3d.geometry.PointCloud(o3d.utility.Vector3dVector(pts))\n",
    "pcd.paint_uniform_color([0.0, 0.0, 1.0])  # 蓝色\n",
    "pcd = pcd.voxel_down_sample(voxel_size=voxel)\n",
    "\n",
    "o3d.visualization.draw_geometries([pcd])"
   ]
  },
  {
   "cell_type": "code",
   "execution_count": null,
   "id": "627706ec",
   "metadata": {},
   "outputs": [],
   "source": [
    "import taichi as ti\n",
    "import numpy as np\n",
    "\n",
    "ti.init(arch=ti.gpu)\n",
    "grids = np.load(\"/home/tatp/Desktop/grids.npy\")\n",
    "mask = grids[:, 3] > 1.0\n",
    "pts = grids[mask, :3].astype(np.float32)\n",
    "\n",
    "# 可选再抽样\n",
    "max_points = 5_000_000\n",
    "if pts.shape[0] > max_points:\n",
    "    idx = np.random.choice(pts.shape[0], max_points, replace=False)\n",
    "    pts = pts[idx]\n",
    "\n",
    "pos = ti.Vector.field(3, dtype=ti.f32, shape=pts.shape[0])\n",
    "pos.from_numpy(pts)\n",
    "\n",
    "window = ti.ui.Window(\"PointCloud\", (1280, 720))\n",
    "canvas = window.get_canvas()\n",
    "scene = ti.ui.Scene()\n",
    "camera = ti.ui.Camera()\n",
    "camera.position(0, 0, 3)\n",
    "camera.lookat(0, 0, 0)\n",
    "\n",
    "while window.running:\n",
    "    camera.track_user_inputs(window, movement_speed=0.5, hold_key=ti.ui.RMB)\n",
    "    scene.set_camera(camera)\n",
    "    scene.ambient_light((0.8, 0.8, 0.8))\n",
    "    scene.particles(pos, radius=0.002, color=(0.0, 0.0, 1.0))\n",
    "    canvas.scene(scene)\n",
    "    window.show()"
   ]
  }
 ],
 "metadata": {
  "kernelspec": {
   "display_name": "discoverse",
   "language": "python",
   "name": "python3"
  },
  "language_info": {
   "codemirror_mode": {
    "name": "ipython",
    "version": 3
   },
   "file_extension": ".py",
   "mimetype": "text/x-python",
   "name": "python",
   "nbconvert_exporter": "python",
   "pygments_lexer": "ipython3",
   "version": "3.10.16"
  }
 },
 "nbformat": 4,
 "nbformat_minor": 5
}
